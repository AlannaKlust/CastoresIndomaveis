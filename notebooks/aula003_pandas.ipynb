{
 "cells": [
  {
   "cell_type": "markdown",
   "metadata": {},
   "source": [
    "# Introdução\n",
    "\n",
    "Parabéns! Você é a mais nova cientista de dados da BlueToucan Medical, uma empresa multinacional da área de farmacos para o tratamento diversos tipos de câncer. Em reunião a direção da empresa solicitou que você fosse responsável por avaliar os dados da última pesquisa feita em parceira com os hospitais da Universidade de Wisconsin.\n",
    "\n",
    "# Problema\n",
    "\n",
    "Câncer de mama é o tipo de câncer mais comum entre as mulheres no mundo e no Brasil, depois do câncer de pele não melanoma. O câncer de mama responde, atualmente, por cerca de 28% dos casos novos de câncer em mulheres. O câncer de mama também acomete homens, porém é raro, representando menos de 1% do total de casos da doença. Estatísticas indicam aumento da sua incidência tanto nos países desenvolvidos quanto nos em desenvolvimento. Existem vários tipos de câncer de mama. Alguns evoluem de forma rápida, outros, não. A maioria dos casos tem bom prognóstico.\n",
    "\n",
    "Os executivos da BlueToucan precisam de tomar algumas decisões ligadas a produção de um remédio para combater o câncer de mama. Por isso encomendaram uma análise de dados com você, sua missão é utilizar os dados coletados para extrair o máximo de informação possível sobre as características do câncer, dos indivíduos, onde moram e quais os fatores que aparentam ter relação a grande quantidade de câncer de mama.\n",
    "\n",
    "# Os dados\n",
    "\n",
    "## breast_cancer_data.csv\n",
    "\n",
    "> mean_radius: raio médio dos caroços retirados<br>\n",
    "> mean_texture: textura média dos caroços retirados<br>\n",
    "> mean_perimenter: perímetro médio dos caroços retirados<br>\n",
    "> mean_area: área média dos caroços retirados<br>\n",
    "> mean_smoothness: suavidade média dos caroços retirados<br>\n",
    "> diagnosis: diagnóstico (1 - canceroso, 0 - não canceroso)<br>\n",
    "> age: idade da paciente<br>\n",
    "> name: nome da paciente<br>\n",
    "> zipcode: código da cidade de residência da paciente<br>\n",
    "> diabetes: paciente diagnosticado com diabetes (0 - sem diabetes, 1 - com diabetes)<br>\n",
    "\n",
    "## median_hh_income.csv\n",
    "\n",
    "> COUNTY: nome da municipalidade<br>\n",
    "> COUNT: mediana de renda anual<br>\n",
    "\n",
    "## percentage_no_health_insurance.csv\n",
    "\n",
    "> COUNTY: nome da municipalidade<br>\n",
    "> COUNT: porcentagem da população sem plano de saúde<br>\n",
    "\n",
    "## toxic_air_arsenic.csv\n",
    "\n",
    "> COUNTY: nome da municipalidade<br>\n",
    "> POUNDS: quantidade (em pounds) de arsênico liberado no ar.<br>\n",
    "\n",
    "## wi_county_data.csv\n",
    "\n",
    "> ZIP: código da cidade<br>\n",
    "> COUNTY: nome da municipalidade<br>\n",
    "\n",
    "## wi_regions.txt\n",
    "\n",
    "> Documento de texto descrevendo regiões e suas respectivas municipalidades.\n",
    "\n",
    "## WI (geojson)\n",
    "\n",
    "> Pasta contendo geojson descrevendo o formato de todas as municipalidades."
   ]
  }
 ],
 "metadata": {
  "kernelspec": {
   "display_name": "Python 3.7.6 64-bit ('base': conda)",
   "language": "python",
   "name": "python37664bitbaseconda774df39cacc84caf9286edd8f47a70cc"
  },
  "language_info": {
   "codemirror_mode": {
    "name": "ipython",
    "version": 3
   },
   "file_extension": ".py",
   "mimetype": "text/x-python",
   "name": "python",
   "nbconvert_exporter": "python",
   "pygments_lexer": "ipython3",
   "version": "3.7.6"
  }
 },
 "nbformat": 4,
 "nbformat_minor": 4
}
